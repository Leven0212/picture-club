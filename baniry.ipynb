{
 "cells": [
  {
   "cell_type": "code",
   "execution_count": null,
   "id": "3a82ba82",
   "metadata": {},
   "outputs": [],
   "source": [
    "import numpy as np\n",
    "import matplotlib.pyplot as plt\n",
    "from sympy import diff, symbols\n",
    "import sympy as sp\n",
    "%matplotlib inline"
   ]
  },
  {
   "cell_type": "code",
   "execution_count": null,
   "id": "7a0b92ff",
   "metadata": {},
   "outputs": [],
   "source": [
    "def func(t):\n",
    "    x = symbols('x')\n",
    "    y = x**4 - 14*x**3 + 60*x**2 - 70*x\n",
    "    y1 = diff(y, x)\n",
    "#     print('一阶导函数为: {}'.format(y1))\n",
    "#     y2 = diff(y1, x)\n",
    "#     print('二阶导函数为: {}'.format(y2))\n",
    "    return y1.subs({x: t}), t**4 - 14*t**3 + 60*t**2 - 70*t\n",
    "# , y2.subs({x: t})"
   ]
  },
  {
   "cell_type": "code",
   "execution_count": null,
   "id": "f2655eca",
   "metadata": {},
   "outputs": [],
   "source": [
    "def baniry_search(func, a, b, final):\n",
    "    N = np.log(final/(b - a))/np.log(0.5)\n",
    "    N = int(np.ceil(N))\n",
    "    a_t = [a]\n",
    "    b_t = [b]\n",
    "    for i in range(N):\n",
    "        x0 = (a + b)/2\n",
    "        f1, _ = func(x0)\n",
    "        if f1 > 0:\n",
    "            b = x0\n",
    "        else:\n",
    "            a = x0\n",
    "        a_t.append(a)\n",
    "        b_t.append(b)\n",
    "    return a_t, b_t"
   ]
  },
  {
   "cell_type": "code",
   "execution_count": null,
   "id": "d68f88e7",
   "metadata": {},
   "outputs": [],
   "source": [
    "x = np.linspace(0, 2, 1000)\n",
    "_, y = func(x)\n",
    "plt.plot(x, y)\n",
    "a_t, b_t = baniry_search(func, 0, 2, 0.3)\n",
    "print('共进行{}次迭代'.format(len(a_t) - 1))\n",
    "for i in range(len(a_t)):\n",
    "    if i == 0:\n",
    "        continue\n",
    "    print('第{}次迭代的结果区间为（{:.4f}, {:.4f}）'.format(i, a_t[i], b_t[i]))\n",
    "print('\\n最终区间为（{:.4f}, {:.4f}）'.format(a_t[-1], b_t[-1]))\n",
    "x = np.linspace(a_t[-1], b_t[-1], 1000)\n",
    "_, y = func(x)\n",
    "plt.plot(x, y, 'red', linewidth=5)\n",
    "plt.show()"
   ]
  }
 ],
 "metadata": {
  "kernelspec": {
   "display_name": "Python 3",
   "language": "python",
   "name": "python3"
  },
  "language_info": {
   "codemirror_mode": {
    "name": "ipython",
    "version": 3
   },
   "file_extension": ".py",
   "mimetype": "text/x-python",
   "name": "python",
   "nbconvert_exporter": "python",
   "pygments_lexer": "ipython3",
   "version": "3.8.8"
  }
 },
 "nbformat": 4,
 "nbformat_minor": 5
}
