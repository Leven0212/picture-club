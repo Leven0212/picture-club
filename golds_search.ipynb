{
 "cells": [
  {
   "cell_type": "code",
   "execution_count": null,
   "id": "e3000e88",
   "metadata": {},
   "outputs": [],
   "source": [
    "import numpy as np\n",
    "import matplotlib.pyplot as plt\n",
    "%matplotlib inline\n",
    "pi = 3.141592653"
   ]
  },
  {
   "cell_type": "code",
   "execution_count": null,
   "id": "22755e4e",
   "metadata": {},
   "outputs": [],
   "source": [
    "def func(x):\n",
    "    return (x**4 - 14*x**3 + 60*x**2 - 70*x)\n",
    "#     return x**2 + 4*np.cos(x)"
   ]
  },
  {
   "cell_type": "code",
   "execution_count": null,
   "id": "44b7a680",
   "metadata": {},
   "outputs": [],
   "source": [
    "def golds_search(func, a, b, final):\n",
    "    rou = 0.618\n",
    "    a_t = [a]\n",
    "    b_t = [b]\n",
    "    N = np.log(final/(b-a))/np.log(0.618)\n",
    "    a_new = a + (1 - rou) * (b - a)\n",
    "    b_new = a + rou * (b - a)\n",
    "    fa = func(a_new)\n",
    "    fb = func(b_new)\n",
    "    for i in range(int(np.ceil(N))):\n",
    "        if fa > fb:\n",
    "            a = a_new\n",
    "            a_new = b_new\n",
    "            fa = fb\n",
    "            b_new = a + rou * (b - a)\n",
    "            fb = func(b_new)\n",
    "        else:\n",
    "            b = b_new\n",
    "            b_new = a_new\n",
    "            fb = fa\n",
    "            a_new = a + (1 - rou) * (b - a)\n",
    "            fa = func(a_new)\n",
    "        a_t.append(a)\n",
    "        b_t.append(b)\n",
    "    return a_t, b_t, a, b"
   ]
  },
  {
   "cell_type": "code",
   "execution_count": null,
   "id": "24116b3a",
   "metadata": {},
   "outputs": [],
   "source": [
    "x = np.linspace(0, 2, 1000)\n",
    "y = func(x)\n",
    "plt.plot(x,y)\n",
    "a_t, b_t, a, b = golds_search(func, 0, 2, 0.2)\n",
    "print('共迭代{}次'.format(len(a_t) - 1))\n",
    "for i in range(len(a_t)):\n",
    "    if i == 0:\n",
    "        continue\n",
    "    print('第{}次迭代的区间为：({:.4f}, {:.4f})'.format(i, a_t[i], b_t[i]))\n",
    "print('\\n最终区间为（{:.4f}, {:.4f}）'.format(a,b))\n",
    "x = np.linspace(a, b, 1000)\n",
    "y = func(x)\n",
    "plt.plot(x, y, 'red', linewidth=5)\n",
    "plt.show()"
   ]
  }
 ],
 "metadata": {
  "kernelspec": {
   "display_name": "Python 3",
   "language": "python",
   "name": "python3"
  },
  "language_info": {
   "codemirror_mode": {
    "name": "ipython",
    "version": 3
   },
   "file_extension": ".py",
   "mimetype": "text/x-python",
   "name": "python",
   "nbconvert_exporter": "python",
   "pygments_lexer": "ipython3",
   "version": "3.8.8"
  }
 },
 "nbformat": 4,
 "nbformat_minor": 5
}
