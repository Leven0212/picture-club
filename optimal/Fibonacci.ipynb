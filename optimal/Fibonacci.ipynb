{
 "cells": [
  {
   "cell_type": "code",
   "execution_count": null,
   "id": "e56b9586",
   "metadata": {},
   "outputs": [],
   "source": [
    "import numpy as np\n",
    "import matplotlib.pyplot as plt\n",
    "%matplotlib inline"
   ]
  },
  {
   "cell_type": "code",
   "execution_count": null,
   "id": "80cb7ae5",
   "metadata": {},
   "outputs": [],
   "source": [
    "def func(x):\n",
    "    return (x**4 - 14*x**3 + 60*x**2 - 70*x)\n",
    "#     return x**2 + 4*np.cos(x)"
   ]
  },
  {
   "cell_type": "code",
   "execution_count": null,
   "id": "a882f526",
   "metadata": {},
   "outputs": [],
   "source": [
    "def F(n):\n",
    "    if n == 0:\n",
    "        return 1\n",
    "    elif n == 1:\n",
    "        return 1\n",
    "    else:\n",
    "        return F(n - 1) + F(n - 2)"
   ]
  },
  {
   "cell_type": "code",
   "execution_count": null,
   "id": "98b7fffe",
   "metadata": {},
   "outputs": [],
   "source": [
    "def fib(func, a, b, final, epsilon):\n",
    "    fib_array = []\n",
    "    for i in range(65536):\n",
    "        fib_array.append(F(i))\n",
    "        if F(i) >= (1 + 2*epsilon)*(b - a)/final:\n",
    "            break\n",
    "    N = i - 1\n",
    "    rou = 1 - fib_array[N]/fib_array[N+1]\n",
    "    a_new = a + rou * (b - a)\n",
    "    b_new = a + (1 - rou) * (b - a)\n",
    "    rou_t = [rou]\n",
    "    a_t = [a]\n",
    "    b_t = [b]\n",
    "    fa = func(a_new)\n",
    "    fb = func(b_new)\n",
    "    for i in range(N-1):\n",
    "        if fa > fb:\n",
    "            a = a_new\n",
    "            a_new = b_new\n",
    "            if i != N - 2:\n",
    "                fa = fb\n",
    "            rou = 1 - fib_array[N - i - 1]/fib_array[N - i]\n",
    "            b_new = a + (1 - rou) * (b - a)\n",
    "            fb = func(b_new)\n",
    "        else:\n",
    "            b = b_new\n",
    "            b_new = a_new\n",
    "            if i != N - 2:\n",
    "                fb = fa\n",
    "            rou = 1 - fib_array[N - i - 1]/fib_array[N - i]\n",
    "            a_new = a + rou * (b - a)\n",
    "            fa = func(a_new)\n",
    "        a_t.append(a)\n",
    "        b_t.append(b)\n",
    "        rou_t.append(rou)\n",
    "        \n",
    "    rou -= epsilon\n",
    "    if fa > fb:\n",
    "        fa = fb\n",
    "        b_new = a + (1 - rou) * (b - a)\n",
    "        fb = func(b_new)\n",
    "    else:\n",
    "        fb = fa\n",
    "        a_new = a + rou * (b - a)\n",
    "        fa = func(a_new)\n",
    "    rou_t[-1] = rou\n",
    "    if fa > fb:\n",
    "        a = a_new\n",
    "        a_new = b_new\n",
    "    else:\n",
    "        b = b_new\n",
    "        b_new = a_new\n",
    "        \n",
    "    a_t.append(a)\n",
    "    b_t.append(b)\n",
    "\n",
    "    return a, b, a_t, b_t, rou_t"
   ]
  },
  {
   "cell_type": "code",
   "execution_count": null,
   "id": "94d6847e",
   "metadata": {
    "scrolled": false
   },
   "outputs": [],
   "source": [
    "x = np.linspace(0, 2, 1000)\n",
    "y = func(x)\n",
    "plt.plot(x,y)\n",
    "a, b, a_t, b_t, rou_t = fib(func, 0, 2, 0.2, 0.05)\n",
    "print('共迭代{}次'.format(len(a_t) - 1))\n",
    "for i in range(len(a_t)):\n",
    "    if i == 0:\n",
    "        continue\n",
    "    print('第{}次迭代的区间为：({:.4f}, {:.4f}), 使用的rou是{:.4f}'.format(i, a_t[i], b_t[i], rou_t[i - 1]))\n",
    "print('\\n最终区间为（{:.4f}, {:.4f}）'.format(a,b))\n",
    "\n",
    "x = np.linspace(a, b, 1000)\n",
    "y = func(x)\n",
    "plt.plot(x, y, 'red', linewidth=5)\n",
    "plt.show()"
   ]
  }
 ],
 "metadata": {
  "kernelspec": {
   "display_name": "Python 3",
   "language": "python",
   "name": "python3"
  },
  "language_info": {
   "codemirror_mode": {
    "name": "ipython",
    "version": 3
   },
   "file_extension": ".py",
   "mimetype": "text/x-python",
   "name": "python",
   "nbconvert_exporter": "python",
   "pygments_lexer": "ipython3",
   "version": "3.8.8"
  }
 },
 "nbformat": 4,
 "nbformat_minor": 5
}
