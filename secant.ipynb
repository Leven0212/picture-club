{
 "cells": [
  {
   "cell_type": "code",
   "execution_count": null,
   "id": "d9b335cd",
   "metadata": {},
   "outputs": [],
   "source": [
    "import numpy as np\n",
    "import matplotlib.pyplot as plt\n",
    "import sympy as sp\n",
    "from sympy import diff, symbols\n",
    "%matplotlib inline"
   ]
  },
  {
   "cell_type": "code",
   "execution_count": null,
   "id": "5467590c",
   "metadata": {},
   "outputs": [],
   "source": [
    "def func(t):\n",
    "    x = symbols('x')\n",
    "    y = 0.5*x**2 - sp.sin(x)\n",
    "    y1 = diff(y, x)\n",
    "    return y1.subs({x: t})"
   ]
  },
  {
   "cell_type": "code",
   "execution_count": null,
   "id": "731ce034",
   "metadata": {},
   "outputs": [],
   "source": [
    "def secant_search(func, x0, x1, epsilon):\n",
    "    x_0 = [x0]\n",
    "    x_1 = [x1]\n",
    "    err = []\n",
    "    while True:\n",
    "        f1_0 = func(x0)\n",
    "        f1_1 = func(x1)\n",
    "        x2 = x1 - ((x1 - x0)*f1_1/(f1_1 - f1_0))\n",
    "        x_0.append(x1)\n",
    "        x_1.append(x2)\n",
    "        err.append(np.abs(x2 - x1))\n",
    "        if np.abs(x2 - x1) < epsilon:\n",
    "            break\n",
    "        else:\n",
    "            x0 = x1\n",
    "            x1 = x2\n",
    "    return x_0, x_1, err"
   ]
  },
  {
   "cell_type": "code",
   "execution_count": null,
   "id": "8538dbfa",
   "metadata": {},
   "outputs": [],
   "source": [
    "x_0, x_1, err = secant_search(func, 0.5, 0.6, 1e-5)\n",
    "print('总共迭代{}次'.format(len(x_0) - 1))\n",
    "for i in range(len(x_0)):\n",
    "    if i == 0:\n",
    "        continue\n",
    "    print('第{}次迭代的结果为：{:.5f}，差值为：{:.6f}'.format(i, x_1[i], err[i - 1]))\n",
    "    \n",
    "print('\\n最终极值点为{:.5f}'.format(x_1[-1]))"
   ]
  }
 ],
 "metadata": {
  "kernelspec": {
   "display_name": "Python 3",
   "language": "python",
   "name": "python3"
  },
  "language_info": {
   "codemirror_mode": {
    "name": "ipython",
    "version": 3
   },
   "file_extension": ".py",
   "mimetype": "text/x-python",
   "name": "python",
   "nbconvert_exporter": "python",
   "pygments_lexer": "ipython3",
   "version": "3.8.8"
  }
 },
 "nbformat": 4,
 "nbformat_minor": 5
}
