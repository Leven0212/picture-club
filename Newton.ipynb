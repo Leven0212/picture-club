{
 "cells": [
  {
   "cell_type": "code",
   "execution_count": null,
   "id": "e228a98d",
   "metadata": {},
   "outputs": [],
   "source": [
    "import numpy as np\n",
    "import math\n",
    "import matplotlib.pyplot as plt\n",
    "import sympy as sp\n",
    "from sympy import diff, symbols\n",
    "%matplotlib inline"
   ]
  },
  {
   "cell_type": "code",
   "execution_count": null,
   "id": "f6ad49ed",
   "metadata": {},
   "outputs": [],
   "source": [
    "def func(t):\n",
    "    x = symbols('x')\n",
    "    y = 0.5*x**2 - sp.sin(x)\n",
    "    y1 = diff(y, x)\n",
    "    y2 = diff(y1, x)\n",
    "    return y1.subs({x: t}), y2.subs({x: t})"
   ]
  },
  {
   "cell_type": "code",
   "execution_count": null,
   "id": "91ba4fc7",
   "metadata": {},
   "outputs": [],
   "source": [
    "def newton_search(func, x0, epsilon):\n",
    "    x = [x0]\n",
    "    err = []\n",
    "    while True:\n",
    "        f1, f2 = func(x0)\n",
    "        x1 = x0 - f1/f2\n",
    "        x.append(x1)\n",
    "        err.append(np.abs(x1 - x0))\n",
    "        if np.abs(x1 - x0) < epsilon:\n",
    "            break\n",
    "        else:\n",
    "            x0 = x1\n",
    "    return x, err"
   ]
  },
  {
   "cell_type": "code",
   "execution_count": null,
   "id": "57ea75f3",
   "metadata": {},
   "outputs": [],
   "source": [
    "x, err = newton_search(func, 0.5, 1e-5)\n",
    "print('总共迭代{}次'.format(len(x) - 1))\n",
    "for i in range(len(x)):\n",
    "    if i == 0:\n",
    "        continue\n",
    "    print('第{}次迭代的结果为：{:.5f}，差值为：{:.6f}'.format(i, x[i], err[i - 1]))\n",
    "    \n",
    "print('\\n最终极值点为{:.5f}'.format(x[-1]))"
   ]
  }
 ],
 "metadata": {
  "kernelspec": {
   "display_name": "Python 3",
   "language": "python",
   "name": "python3"
  },
  "language_info": {
   "codemirror_mode": {
    "name": "ipython",
    "version": 3
   },
   "file_extension": ".py",
   "mimetype": "text/x-python",
   "name": "python",
   "nbconvert_exporter": "python",
   "pygments_lexer": "ipython3",
   "version": "3.8.8"
  }
 },
 "nbformat": 4,
 "nbformat_minor": 5
}
